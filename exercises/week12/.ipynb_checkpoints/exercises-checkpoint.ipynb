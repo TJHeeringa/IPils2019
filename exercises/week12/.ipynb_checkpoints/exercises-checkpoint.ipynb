{
 "cells": [
  {
   "cell_type": "code",
   "execution_count": 1,
   "metadata": {},
   "outputs": [],
   "source": [
    "import numpy as np\n",
    "import matplotlib.pyplot as plt"
   ]
  },
  {
   "cell_type": "markdown",
   "metadata": {},
   "source": [
    "# Proximal method: soft shrinkage"
   ]
  },
  {
   "cell_type": "markdown",
   "metadata": {},
   "source": [
    "In efficient splitting methods, e.g. in Split Bregman, see next exercise below, subproblems often can be reduced to proximal steps, like soft shrinkage.\n",
    "\n",
    "* Hence, show in 1D $(\\Omega \\subset \\mathbb{R})$, that a solution $z^* : \\Omega \\rightarrow \\mathbb{R}$ of the functional\n",
    "$$\n",
    "\t\\min_z \\frac{1}{2}\\left\\| z-f \\right\\|_{L^2(\\Omega)}^2 + \\alpha \\left\\| z \\right\\|_{L^1(\\Omega)}\n",
    "$$\n",
    "is explicitly given by the application of the soft shrinkage operator $S_\\alpha(f)$\n",
    "\n",
    "$$ z^* = S_\\alpha(f) := \\left\\{\n",
    "\\begin{align*}\n",
    "&f - \\alpha , &\\text{if}\\: f > \\alpha \\\\\n",
    "&0,           &\\text{if}\\: -\\alpha \\leq f \\leq \\alpha\\\\\n",
    "&f + \\alpha , &\\text{if}\\: f < -\\alpha\n",
    "\\end{align*}\n",
    "\\right\\}\n",
    "$$\n",
    "\n",
    "* What would happen with this formula if we would go from convex regularization to nonconvex regularization, i.e. $L^p(\\Omega)$ with $0 < p < 1$ instead of $L^1(\\Omega)$ in the regularization? (This is a difficult question. Search for hard shrinkage to get an idea.)"
   ]
  },
  {
   "cell_type": "markdown",
   "metadata": {},
   "source": [
    "# Primal-dual method: TV denoising"
   ]
  },
  {
   "cell_type": "markdown",
   "metadata": {},
   "source": [
    "In the lecture we have introduced with Split-Bregman, or equivalently Alternating direction method of multipliers (ADMM), a splitting method, with which we can solve the ROF model \n",
    "$$ \\min_u \\frac{1}{2} \\left\\| u-f \\right\\|_{L^2(\\Omega)} + \\alpha \\left\\| \\nabla u \\right\\|_{L^1(\\Omega)}\n",
    "\\label{eq:rof}\n",
    "$$\n",
    "efficiently in an alternating primal-dual fashion.\n",
    "\n",
    "* Derive the splitting method in 1D $(\\Omega \\subset \\mathbb{R})$ analogous to the lecture for the ROF model, implement it in Python and test it for different step sizes and regularisation parameters for a step function with additive Gaussian noise.\n",
    "\n",
    "* How do the subproblems of the splitting algorithm change, if we make the transition from denoising to reconstruction with an operator $K:\\Omega \\rightarrow \\Omega$, without introducing additional constraints? Which property would the operator $K$ need, such that the whole method could still be realised efficiently via FFT and DCT inside?"
   ]
  }
 ],
 "metadata": {
  "kernelspec": {
   "display_name": "Python 3",
   "language": "python",
   "name": "python3"
  },
  "language_info": {
   "codemirror_mode": {
    "name": "ipython",
    "version": 3
   },
   "file_extension": ".py",
   "mimetype": "text/x-python",
   "name": "python",
   "nbconvert_exporter": "python",
   "pygments_lexer": "ipython3",
   "version": "3.6.4"
  }
 },
 "nbformat": 4,
 "nbformat_minor": 2
}
