{
 "cells": [
  {
   "cell_type": "code",
   "execution_count": 3,
   "metadata": {},
   "outputs": [],
   "source": [
    "import numpy as np\n",
    "import matplotlib.pyplot as plt"
   ]
  },
  {
   "cell_type": "markdown",
   "metadata": {},
   "source": [
    "## Convolution through the heat equation\n",
    "\n",
    "In this exercise we'll explore the relation between the heat equation and convolution with a Gaussian kernel. Specifically, we'll see that the linear operation $f = Ku$ defined by the intial-value problem\n",
    "$$v_t = v_{xx}, \\quad v(0,x) = u(x), \\quad f(x) = v(1,x),$$\n",
    "is given by\n",
    "$$Ku(x) = \\frac{1}{2\\sqrt{\\pi}}\\int_{\\mathbb{R}} u(x') \\exp(-(x - x')^2/4) \\mathrm{d}x'.$$"
   ]
  },
  {
   "cell_type": "markdown",
   "metadata": {},
   "source": [
    "1. Verify that the solution to the heat equation is given by\n",
    "$$v(t,x) = \\int_{\\mathbb{R}} u(x') g_t(x - x')\\mathrm{d}x',$$\n",
    "where $g_t(x)$ is the *heat-kernel*:\n",
    "$$g_t(x) = \\frac{1}{2\\sqrt{\\pi t}}\\exp(-(x/2)^2/t).$$\n",
    "You may use here that $g_t(x)$ converges (in the sense of distributions) to $\\delta(x)$ as $t \\downarrow 0$."
   ]
  },
  {
   "cell_type": "markdown",
   "metadata": {},
   "source": [
    "2. Is the operator bounded? compact? self-adjoint?"
   ]
  },
  {
   "cell_type": "markdown",
   "metadata": {},
   "source": [
    "We can use the [convolution theorem](https://en.wikipedia.org/wiki/Convolution_theorem) to represent the operator as\n",
    "$$Ku = F^{-1}((Fu)\\cdot(Fg_1)),$$\n",
    "where $\\cdot$ denotes point-wise multiplication and $F$ denotes the [Fourier transform](https://en.wikipedia.org/wiki/Fourier_transform)\n",
    "$$Fu(\\xi) = \\int_{\\mathbb{R}} u(x) e^{\\imath 2\\pi \\xi x} {\\mathrm{d}}x,$$\n",
    "with inverse\n",
    "$$F^{-1}\\widehat{u}(x) = \\int_{\\mathbb{R}} \\widehat{u}(\\xi) e^{-\\imath 2\\pi\\xi x} {\\mathrm{d}}\\xi.$$\n",
    "### Linearity\n",
    "$$\n",
    "K(au+bu)(x) = \\int_{\\mathbb{R}} (au+bw)(x') \\exp(-(x - x')^2) \\mathrm{d}x' \\\\\n",
    "= \\int_{\\mathbb{R}} (au+bw)(x') \\exp(-(x - x')^2) \\mathrm{d}x' \\\\\n",
    "= \\int_{\\mathbb{R}} \\bigg(au(x')+bw(x') \\bigg)\\exp(-(x - x')^2) \\mathrm{d}x' \\\\\n",
    "= a\\int_{\\mathbb{R}} au(x')\\exp(-(x - x')^2) \\mathrm{d}x'+b\\int_{\\mathbb{R}} w(x')\\exp(-(x - x')^2) \\mathrm{d}x' \\\\\n",
    "= aKu(x)+bKw(x)\n",
    "$$\n",
    "### Boundedness\n",
    "K is bounded if and only if\n",
    "$$\n",
    "\\int_{\\mathbb{R}}\\int_{\\mathbb{R}}|e^{(x-y)^2}|^2dxdy = \\int_{\\mathbb{R}}\\int_{\\mathbb{R}}e^{2(x-y)^2}dxdy \\\\\n",
    "= \\int_{\\mathbb{R}}\\int_{\\mathbb{R}}e^{2(x-y)^2}dxdy \\\\\n",
    "= \\int_{\\mathbb{R}}\\sqrt{\\frac{\\pi}{2}}dy \\\\\n",
    "= \\infty\n",
    "$$\n",
    "### Boundedness\n",
    "K is self-adjoint if and only if\n",
    "$$\n",
    "k(x,y) = k(y,x) \\\\\n",
    "$$\n",
    "The latter is true, since\n",
    "$$\n",
    "    e^{(x-y)^2} = e^{(y-x)^2}\n",
    "$$\n",
    "### Compact\n",
    "K cannot be compact if K is unbounded, hence K is not compact."
   ]
  },
  {
   "cell_type": "markdown",
   "metadata": {},
   "source": [
    "## Convolution on a finite interval\n",
    "\n",
    "We can similary define convolution with a Gaussian kernel on a finite interval through the initial boundary-value problem\n",
    "$$v_t = v_{xx}, \\quad v(t,0) = v(t,1) = 0,\\quad v(0,x) = u(x)$$\n",
    "with $f(x) = v(1,x)$."
   ]
  },
  {
   "cell_type": "markdown",
   "metadata": {},
   "source": [
    "3. Express the inverse of $K$ as a convolution with another filter $h$. 4. How does ill-posed manifest itself here?1. Verify that the solution of the initial boundary-value problem is given by \n",
    "$$\n",
    "v(t,x) = \\sum_{k=1}^{\\infty} a_k\\exp(- \\lambda_k^2 t)\\sin(\\lambda_k x),\n",
    "$$\n",
    "with $\\lambda_k = k\\pi$ and $a_k$ are the Fourier sine coefficients of $u$:\n",
    "$$a_k = \\int_0^1 u(x) \\sin (\\lambda_k x) \\mathrm{d}x.$$"
   ]
  },
  {
   "cell_type": "markdown",
   "metadata": {},
   "source": [
    "### Differential Equations\n",
    "$$\n",
    "v_t(t,x) = - \\lambda_k^2\\sum_{k=1}^{\\infty} a_k\\exp(- \\lambda_k^2 t)\\sin(\\lambda_k x) = - \\lambda_k^2v(t,x) \\\\\n",
    "v_{xx}(t,x) = - \\lambda_k^2\\sum_{k=1}^{\\infty} a_k\\exp(- \\lambda_k^2 t)\\sin(\\lambda_k x) = - \\lambda_k^2v(t,x)\n",
    "$$\n",
    "Hence\n",
    "$$\n",
    "v_t(t,x) = v_{xx}(t,x)\n",
    "$$\n",
    "### Boundary Conditions\n",
    "$$\n",
    "v(t,0) = \\sum_{k=1}^{\\infty} a_k\\exp(- \\lambda_k^2 t)\\sin(\\lambda_k 0) = 0 \\\\\n",
    "v(t,1) = \\sum_{k=1}^{\\infty} a_k\\exp(- \\lambda_k^2 t)\\sin(\\lambda_k) = \\sum_{k=1}^{\\infty} a_k\\exp(- \\lambda_k^2 t)\\sin(k\\pi) = 0 \\\\\n",
    "v(0,x) = \\sum_{k=1}^{\\infty} a_k\\exp(- \\lambda_k^2 0)\\sin(\\lambda_k x) = \\sum_{k=1}^{\\infty} a_k\\sin(\\lambda_k x)=u(x) \\\\\n",
    "$$"
   ]
  },
  {
   "cell_type": "markdown",
   "metadata": {},
   "source": [
    "4. Can you come up with a regularized filter $h_{\\alpha}$ ?"
   ]
  },
  {
   "cell_type": "markdown",
   "metadata": {},
   "source": [
    "5. We can experiment with the inverse problem by using a discrete Fourier transform. Implement the inverse operator and the regularized inverse and show the effect of regularization$$\n",
    "    f(x) = v(1,x) = \\sum_{k=1}^{\\infty} a_k\\exp(- \\lambda_k^2)\\sin(\\lambda_k x) \\\\\n",
    "     = \\sum_{k=1}^{\\infty}\\exp(- \\lambda_k^2)  \\int_0^1 u(x)\\sin (\\lambda_k x) \\mathrm{d}x\\sin(\\lambda_k x) \\\\\n",
    "      = \\sum_{k=1}^{\\infty}\\exp(- \\lambda_k^2)  (u(x)\\cdot\\sin (\\lambda_k x)) \\sin(\\lambda_k x)\n",
    "$$\n",
    "Suppose we define\n",
    "$$\n",
    "    \\sigma_k = \\exp(- \\lambda_k^2) \\\\\n",
    "    v_k = \\sin (\\lambda_k x) \\\\\n",
    "    u_k = \\sin(\\lambda_k x)\n",
    "$$\n",
    "Then\n",
    "$$\n",
    "    Ku(x) = \\sum_{k=0}^\\infty \\sigma_k \\langle u, v_k \\rangle u_k(x)\n",
    "$$"
   ]
  },
  {
   "cell_type": "markdown",
   "metadata": {},
   "source": [
    "3. Now define the regularized pseudo-inverse\n",
    "\n",
    "$$K_{\\alpha}^\\dagger f(x) = \\sum_{k=0}^n g_{\\alpha}(\\sigma_k) \\langle u, v_k \\rangle u_k(x),$$\n",
    "with $g_{\\alpha}(s) = s/(\\alpha + s^2)$ for Tikhonov regularization and $g_{\\alpha} = s/(s\\alpha + s^2)$ for Lavrientef regularization."
   ]
  },
  {
   "cell_type": "code",
   "execution_count": 4,
   "metadata": {},
   "outputs": [],
   "source": [
    "n = 100\n",
    "k = np.arange(n)\n",
    "def tikhonov(s, alpha):\n",
    "    return s/(alpha+s**2)\n",
    "\n",
    "def lavrientef(s, alpha):\n",
    "    return s/(s*alpha+s**2)\n",
    "\n",
    "def singular_values(k=k):\n",
    "    return [np.exp(x**2*np.pi**2) for x in k]\n",
    "\n",
    "def fourier_basis(x, k=k):\n",
    "    return [np.sin(z*np.pi) for z in k]\n",
    "    "
   ]
  },
  {
   "cell_type": "code",
   "execution_count": 5,
   "metadata": {},
   "outputs": [
    {
     "data": {
      "text/plain": [
       "[<matplotlib.lines.Line2D at 0x7fc112b124e0>]"
      ]
     },
     "execution_count": 5,
     "metadata": {},
     "output_type": "execute_result"
    },
    {
     "data": {
      "image/png": "[encoded data removed]",
      "text/plain": [
       "<Figure size 432x288 with 1 Axes>"
      ]
     },
     "metadata": {
      "needs_background": "light"
     },
     "output_type": "display_data"
    }
   ],
   "source": [
    "n = 100\n",
    "x = np.linspace(-10,10,n)\n",
    "\n",
    "u = np.heaviside(2-np.abs(x),1)\n",
    "g = np.exp(-x**2/4)\n",
    "\n",
    "f = np.fft.irfft(np.fft.rfft(u)*np.fft.rfft(g))\n",
    "\n",
    "plt.plot(x,u)"
   ]
  },
  {
   "cell_type": "code",
   "execution_count": null,
   "metadata": {},
   "outputs": [],
   "source": []
  },
  {
   "cell_type": "code",
   "execution_count": null,
   "metadata": {},
   "outputs": [],
   "source": []
  }
 ],
 "metadata": {
  "kernelspec": {
   "display_name": "Python 3",
   "language": "python",
   "name": "python3"
  },
  "language_info": {
   "codemirror_mode": {
    "name": "ipython",
    "version": 3
   },
   "file_extension": ".py",
   "mimetype": "text/x-python",
   "name": "python",
   "nbconvert_exporter": "python",
   "pygments_lexer": "ipython3",
   "version": "3.6.7"
  }
 },
 "nbformat": 4,
 "nbformat_minor": 2
}
