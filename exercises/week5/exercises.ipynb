{
 "cells": [
  {
   "cell_type": "code",
   "execution_count": 3,
   "metadata": {},
   "outputs": [],
   "source": [
    "import numpy as np\n",
    "import matplotlib.pyplot as plt"
   ]
  },
  {
   "cell_type": "markdown",
   "metadata": {},
   "source": [
    "## Exercise: Convolution through the heat equation\n",
    "\n",
    "In this exercise we'll explore the relation between the heat equation and convolution with a Gaussian kernel. Specifically, we'll see that the linear operation $f = Ku$ defined by the initial-value problem\n",
    "$$v_t = v_{xx}, \\quad v(0,x) = u(x), \\quad f(x) = v(1,x),$$\n",
    "is given by\n",
    "$$Ku(x) = \\frac{1}{2\\sqrt{\\pi}}\\int_{\\mathbb{R}} u(x') \\exp(-(x - x')^2/4) \\mathrm{d}x'.$$"
   ]
  },
  {
   "cell_type": "markdown",
   "metadata": {},
   "source": [
    "1. Verify that the solution to the heat equation is given by\n",
    "$$v(t,x) = \\int_{\\mathbb{R}} u(x') g_t(x - x')\\mathrm{d}x',$$\n",
    "where $g_t(x)$ is the *heat-kernel*:\n",
    "$$g_t(x) = \\frac{1}{2\\sqrt{\\pi t}}\\exp(-(x/2)^2/t).$$\n",
    "You may use here that $g_t(x)$ converges (in the sense of distributions) to $\\delta(x)$ as $t \\downarrow 0$."
   ]
  },
  {
   "cell_type": "markdown",
   "metadata": {},
   "source": [
    "$$\n",
    "v(t,x) = \\int_{\\mathbb{R}} u(x') g_t(x - x')\\mathrm{d}x' \\\\\n",
    "$$\n",
    "$$\n",
    "\\frac{\\partial}{\\partial t}v(t,x)=\\frac{\\partial}{\\partial t}\\int_{\\mathbb{R}} u(x') g_t(x - x')\\mathrm{d}x' \\\\\n",
    "\\int_{\\mathbb{R}} u(x') \\frac{\\partial}{\\partial t}g_t(x - x')\\mathrm{d}x' \\\\\n",
    "\\int_{\\mathbb{R}} u(x') \\frac{2\\sqrt{\\pi t}\\frac{x^2}{4t^2}-\\frac{\\sqrt{\\pi}}{\\sqrt{t}}}{4\\pi t}e^{-\\frac{x^2}{4t}}\\mathrm{d}x' \\\\\n",
    "\\int_{\\mathbb{R}} u(x') \\frac{2\\sqrt{\\pi}\\frac{x^2}{4t}-\\sqrt{\\pi}}{4\\pi t\\sqrt{t}}e^{-\\frac{x^2}{4t}}\\mathrm{d}x' \\\\\n",
    "\\int_{\\mathbb{R}} u(x') \\frac{\\frac{x^2}{2t}-1}{4t\\sqrt{\\pi t}}e^{-\\frac{x^2}{4t}}\\mathrm{d}x' \\\\\n",
    "\\int_{\\mathbb{R}} u(x') \\frac{\\frac{x^2}{2t}-1}{2t}g_t(x-x')\\mathrm{d}x' \\\\\n",
    "\\int_{\\mathbb{R}} u(x') \\bigg(\\frac{x^2}{4t^2}-\\frac{1}{2t}\\bigg)g_t(x-x')\\mathrm{d}x' \\\\\n",
    "$$\n",
    "\n",
    "$$\n",
    "\\frac{\\partial^2}{\\partial x^2}v(t,x)=\\frac{\\partial^2}{\\partial x^2}\\int_{\\mathbb{R}} u(x') g_t(x - x')\\mathrm{d}x' \\\\\n",
    "=\\int_{\\mathbb{R}} u(x') \\frac{\\partial^2}{\\partial x^2}g_t(x - x')\\mathrm{d}x' \\\\\n",
    "=\\int_{\\mathbb{R}} u(x') \\frac{\\partial}{\\partial x}\\bigg(\\frac{-2x}{4t}g_t(x - x')\\bigg)\\mathrm{d}x' \\\\\n",
    "=\\int_{\\mathbb{R}} u(x')\\bigg(\\frac{-2}{4t}+\\frac{x^2}{4t^2}\\bigg)g_t(x - x')\\mathrm{d}x' \\\\\n",
    "=\\int_{\\mathbb{R}} u(x')\\bigg(\\frac{-1}{2t}+\\frac{x^2}{4t^2}\\bigg)g_t(x - x')\\mathrm{d}x' \\\\\n",
    "$$\n",
    "Hence\n",
    "$$\n",
    "v_t(t,x) = v_{xx}(t,x)\n",
    "$$"
   ]
  },
  {
   "cell_type": "markdown",
   "metadata": {},
   "source": [
    "2. Is the operator bounded? compact? self-adjoint?"
   ]
  },
  {
   "cell_type": "markdown",
   "metadata": {},
   "source": [
    "We can use the [convolution theorem](https://en.wikipedia.org/wiki/Convolution_theorem) to represent the operator as\n",
    "$$Ku = F^{-1}((Fu)\\cdot(Fg_1)),$$\n",
    "where $\\cdot$ denotes point-wise multiplication and $F$ denotes the [Fourier transform](https://en.wikipedia.org/wiki/Fourier_transform)\n",
    "$$Fu(\\xi) = \\int_{\\mathbb{R}} u(x) e^{\\imath 2\\pi \\xi x} {\\mathrm{d}}x,$$\n",
    "with inverse\n",
    "$$F^{-1}\\widehat{u}(x) = \\int_{\\mathbb{R}} \\widehat{u}(\\xi) e^{-\\imath 2\\pi\\xi x} {\\mathrm{d}}\\xi.$$\n",
    "### Linearity\n",
    "$$\n",
    "K(au+bu)(x) = \\int_{\\mathbb{R}} (au+bw)(x') \\exp(-(x - x')^2) \\mathrm{d}x' \\\\\n",
    "= \\int_{\\mathbb{R}} (au+bw)(x') \\exp(-(x - x')^2) \\mathrm{d}x' \\\\\n",
    "= \\int_{\\mathbb{R}} \\bigg(au(x')+bw(x') \\bigg)\\exp(-(x - x')^2) \\mathrm{d}x' \\\\\n",
    "= a\\int_{\\mathbb{R}} au(x')\\exp(-(x - x')^2) \\mathrm{d}x'+b\\int_{\\mathbb{R}} w(x')\\exp(-(x - x')^2) \\mathrm{d}x' \\\\\n",
    "= aKu(x)+bKw(x)\n",
    "$$\n",
    "### Boundedness\n",
    "K is bounded if and only if\n",
    "$$\n",
    "\\int_{\\mathbb{R}}\\int_{\\mathbb{R}}|e^{(x-y)^2}|^2dxdy = \\int_{\\mathbb{R}}\\int_{\\mathbb{R}}e^{2(x-y)^2}dxdy \\\\\n",
    "= \\int_{\\mathbb{R}}\\int_{\\mathbb{R}}e^{2(x-y)^2}dxdy \\\\\n",
    "= \\int_{\\mathbb{R}}\\sqrt{\\frac{\\pi}{2}}dy \\\\\n",
    "= \\infty\n",
    "$$\n",
    "### Boundedness\n",
    "K is self-adjoint if and only if\n",
    "$$\n",
    "k(x,y) = k(y,x) \\\\\n",
    "$$\n",
    "The latter is true, since\n",
    "$$\n",
    "    e^{(x-y)^2} = e^{(y-x)^2}\n",
    "$$\n",
    "### Compact\n",
    "K cannot be compact if K is unbounded, hence K is not compact."
   ]
  },
  {
   "cell_type": "markdown",
   "metadata": {},
   "source": [
    "## Convolution on a finite interval\n",
    "\n",
    "We can similary define convolution with a Gaussian kernel on a finite interval through the initial boundary-value problem\n",
    "$$v_t = v_{xx}, \\quad v(t,0) = v(t,1) = 0,\\quad v(0,x) = u(x)$$\n",
    "with $f(x) = v(1,x)$."
   ]
  },
  {
   "cell_type": "markdown",
   "metadata": {},
   "source": [
    "3. Express the inverse of $K$ as a convolution with another filter $h$. 4. How does ill-posed manifest itself here?"
   ]
  },
  {
   "cell_type": "markdown",
   "metadata": {},
   "source": []
  },
  {
   "cell_type": "markdown",
   "metadata": {},
   "source": [
    "4. Can you come up with a regularized filter $h_{\\alpha}$ ?"
   ]
  },
  {
   "cell_type": "code",
   "execution_count": null,
   "metadata": {},
   "outputs": [],
   "source": []
  },
  {
   "cell_type": "markdown",
   "metadata": {},
   "source": [
    "5. We can experiment with the inverse problem by using a discrete Fourier transform. Implement the inverse operator and the regularized inverse and show the effect of regularization."
   ]
  },
  {
   "cell_type": "markdown",
   "metadata": {},
   "source": []
  },
  {
   "cell_type": "code",
   "execution_count": 4,
<<<<<<< Updated upstream
=======
   "metadata": {},
   "outputs": [],
   "source": [
    "n = 100\n",
    "k = np.arange(n)\n",
    "def tikhonov(s, alpha):\n",
    "    return s/(alpha+s**2)\n",
    "\n",
    "def lavrientef(s, alpha):\n",
    "    return s/(s*alpha+s**2)\n",
    "\n",
    "def singular_values(k=k):\n",
    "    return [np.exp(x**2*np.pi**2) for x in k]\n",
    "\n",
    "def fourier_basis(x, k=k):\n",
    "    return [np.sin(z*np.pi) for z in k]\n",
    "    "
   ]
  },
  {
   "cell_type": "code",
   "execution_count": 7,
>>>>>>> Stashed changes
   "metadata": {},
   "outputs": [
    {
     "data": {
      "text/plain": [
<<<<<<< Updated upstream
       "[<matplotlib.lines.Line2D at 0x1112e6cc0>]"
      ]
     },
     "execution_count": 4,
=======
       "[<matplotlib.lines.Line2D at 0x7fc112a3eb70>]"
      ]
     },
     "execution_count": 7,
>>>>>>> Stashed changes
     "metadata": {},
     "output_type": "execute_result"
    },
    {
     "data": {
<<<<<<< Updated upstream
      "image/png": "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\n",
=======
      "image/png": "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\n",
>>>>>>> Stashed changes
      "text/plain": [
       "<matplotlib.figure.Figure at 0x10df55be0>"
      ]
     },
     "metadata": {
      "needs_background": "light"
     },
     "output_type": "display_data"
    }
   ],
   "source": [
    "n = 100\n",
    "x = np.linspace(-10,10,n)\n",
    "\n",
    "u = np.heaviside(2-np.abs(x),1)\n",
    "g = np.exp(-x**2/4)\n",
    "\n",
    "f = np.fft.irfft(np.fft.rfft(u)*np.fft.rfft(g))\n",
    "\n",
    "plt.plot(x,u)"
   ]
  },
  {
   "cell_type": "markdown",
<<<<<<< Updated upstream
=======
   "metadata": {},
   "source": [
    "## Exercise\n",
    "For given data $f$ and a convolution kernel $k$ we study the following regularized variational method:\n",
    "$$ \\left\\| k \\ast u - f \\right\\|{L^2(\\Omega)}^2 \\:+\\: \\alpha \\: \\int\\Omega | (\\mathcal{F}u)(w) | \\: dw \\: \\rightarrow \\: \\min_{u} $$\n",
    "where $(\\mathcal{F}u)(w)$ denotes the Fourier transform of $u$ at wave number $w$. Similar to the lecture, find an explicit representation of the solution of the problem using the [convolution theorem](https://en.wikipedia.org/wiki/Convolution_theorem) and the [Plancherel theorem](https://en.wikipedia.org/wiki/Plancherel_theorem). For simplicity you can assume that everything is real valued.\n",
    "\n",
    "Hint: The derivative of the absolute value function is multivalued (you need cases)."
   ]
  },
  {
   "cell_type": "markdown",
   "metadata": {},
   "source": [
    "# --- OUD ---"
   ]
  },
  {
   "cell_type": "markdown",
   "metadata": {},
   "source": [
    "1. Verify that the solution of the initial boundary-value problem is given by \n",
    "$$\n",
    "v(t,x) = \\sum_{k=1}^{\\infty} a_k\\exp(- \\lambda_k^2 t)\\sin(\\lambda_k x),\n",
    "$$\n",
    "with $\\lambda_k = k\\pi$ and $a_k$ are the Fourier sine coefficients of $u$:\n",
    "$$a_k = \\int_0^1 u(x) \\sin (\\lambda_k x) \\mathrm{d}x.$$\n",
    "\n",
    "$$\n",
    "    f(x) = v(1,x) = \\sum_{k=1}^{\\infty} a_k\\exp(- \\lambda_k^2)\\sin(\\lambda_k x) \\\\\n",
    "     = \\sum_{k=1}^{\\infty}\\exp(- \\lambda_k^2)  \\int_0^1 u(x)\\sin (\\lambda_k x) \\mathrm{d}x\\sin(\\lambda_k x) \\\\\n",
    "      = \\sum_{k=1}^{\\infty}\\exp(- \\lambda_k^2)  (u(x)\\cdot\\sin (\\lambda_k x)) \\sin(\\lambda_k x)\n",
    "$$\n",
    "Suppose we define\n",
    "$$\n",
    "    \\sigma_k = \\exp(- \\lambda_k^2) \\\\\n",
    "    v_k = \\sin (\\lambda_k x) \\\\\n",
    "    u_k = \\sin(\\lambda_k x)\n",
    "$$\n",
    "Then\n",
    "$$\n",
    "    Ku(x) = \\sum_{k=0}^\\infty \\sigma_k \\langle u, v_k \\rangle u_k(x)\n",
    "$$"
   ]
  },
  {
   "cell_type": "markdown",
   "metadata": {},
   "source": [
    "### Differential Equations\n",
    "$$\n",
    "v_t(t,x) = - \\lambda_k^2\\sum_{k=1}^{\\infty} a_k\\exp(- \\lambda_k^2 t)\\sin(\\lambda_k x) = - \\lambda_k^2v(t,x) \\\\\n",
    "v_{xx}(t,x) = - \\lambda_k^2\\sum_{k=1}^{\\infty} a_k\\exp(- \\lambda_k^2 t)\\sin(\\lambda_k x) = - \\lambda_k^2v(t,x)\n",
    "$$\n",
    "Hence\n",
    "$$\n",
    "v_t(t,x) = v_{xx}(t,x)\n",
    "$$\n",
    "### Boundary Conditions\n",
    "$$\n",
    "v(t,0) = \\sum_{k=1}^{\\infty} a_k\\exp(- \\lambda_k^2 t)\\sin(\\lambda_k 0) = 0 \\\\\n",
    "v(t,1) = \\sum_{k=1}^{\\infty} a_k\\exp(- \\lambda_k^2 t)\\sin(\\lambda_k) = \\sum_{k=1}^{\\infty} a_k\\exp(- \\lambda_k^2 t)\\sin(k\\pi) = 0 \\\\\n",
    "v(0,x) = \\sum_{k=1}^{\\infty} a_k\\exp(- \\lambda_k^2 0)\\sin(\\lambda_k x) = \\sum_{k=1}^{\\infty} a_k\\sin(\\lambda_k x)=u(x) \\\\\n",
    "$$\n",
    "3. Now define the regularized pseudo-inverse\n",
    "\n",
    "$$K_{\\alpha}^\\dagger f(x) = \\sum_{k=0}^n g_{\\alpha}(\\sigma_k) \\langle u, v_k \\rangle u_k(x),$$\n",
    "with $g_{\\alpha}(s) = s/(\\alpha + s^2)$ for Tikhonov regularization and $g_{\\alpha} = s/(s\\alpha + s^2)$ for Lavrientef regularization."
   ]
  },
  {
   "cell_type": "code",
   "execution_count": null,
>>>>>>> Stashed changes
   "metadata": {},
   "source": [
    "## Exercise: L1 Deblurring via the convolution theorem"
   ]
  },
  {
   "cell_type": "markdown",
   "metadata": {},
   "source": [
    "For given data $f$ and a convolution kernel $k$ we study the following regularized variational method:\n",
    "$$ \\left\\| k \\ast u - f \\right\\|_{L^2(\\Omega)}^2 \\:+\\: \\alpha \\: \\int_\\Omega | (\\mathcal{F}u)(w) | \\: dw \\: \\rightarrow \\: \\min_{u} $$\n",
    "where $(\\mathcal{F}u)(w)$ denotes the Fourier transform of $u$ at wave number $w$. Similar to the lecture, find an explicit representation of the solution of the problem using the [convolution theorem](https://en.wikipedia.org/wiki/Convolution_theorem) and the [Plancherel theorem](https://en.wikipedia.org/wiki/Plancherel_theorem). For simplicity you can assume that everything is real valued.\n",
    "\n",
    "Hint: The derivative of the absolute value function is multivalued (you need cases)."
   ]
  }
 ],
 "metadata": {
  "kernelspec": {
   "display_name": "Python 3",
   "language": "python",
   "name": "python3"
  },
  "language_info": {
   "codemirror_mode": {
    "name": "ipython",
    "version": 3
   },
   "file_extension": ".py",
   "mimetype": "text/x-python",
   "name": "python",
   "nbconvert_exporter": "python",
   "pygments_lexer": "ipython3",
   "version": "3.6.7"
  }
 },
 "nbformat": 4,
 "nbformat_minor": 2
}
